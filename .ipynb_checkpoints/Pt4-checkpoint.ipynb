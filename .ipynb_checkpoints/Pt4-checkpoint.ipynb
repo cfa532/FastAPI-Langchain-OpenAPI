{
 "cells": [
  {
   "cell_type": "code",
   "execution_count": 1,
   "id": "326c61f8-c056-4652-a300-7903aefa96e1",
   "metadata": {},
   "outputs": [
    {
     "name": "stdout",
     "output_type": "stream",
     "text": [
      "Requirement already satisfied: torch in ./liuhe/lib/python3.11/site-packages (2.0.1)\n",
      "Requirement already satisfied: torchvision in ./liuhe/lib/python3.11/site-packages (0.15.2)\n",
      "Collecting captum\n",
      "  Downloading captum-0.6.0-py3-none-any.whl (1.3 MB)\n",
      "\u001b[2K     \u001b[38;2;114;156;31m━━━━━━━━━━━━━━━━━━━━━━━━━━━━━━━━━━━━━━━━\u001b[0m \u001b[32m1.3/1.3 MB\u001b[0m \u001b[31m468.0 kB/s\u001b[0m eta \u001b[36m0:00:00\u001b[0m1m452.8 kB/s\u001b[0m eta \u001b[36m0:00:01\u001b[0m\n",
      "\u001b[?25hCollecting matplotlib==3.3.4\n",
      "  Downloading matplotlib-3.3.4.tar.gz (37.9 MB)\n",
      "\u001b[2K     \u001b[38;2;114;156;31m━━━━━━━━━━━━━━━━━━━━━━━━━━━━━━━━━━━━━━━━\u001b[0m \u001b[32m37.9/37.9 MB\u001b[0m \u001b[31m10.1 MB/s\u001b[0m eta \u001b[36m0:00:00\u001b[0mm eta \u001b[36m0:00:01\u001b[0m[36m0:00:01\u001b[0m\n",
      "\u001b[?25h  Preparing metadata (setup.py) ... \u001b[?25ldone\n",
      "\u001b[?25hCollecting Flask-Compress\n",
      "  Obtaining dependency information for Flask-Compress from https://files.pythonhosted.org/packages/3f/d2/23fd656d38d4c896fa14371990b9978722c48a30d0edcf6b5f7054775a07/Flask_Compress-1.14-py3-none-any.whl.metadata\n",
      "  Downloading Flask_Compress-1.14-py3-none-any.whl.metadata (7.8 kB)\n",
      "Requirement already satisfied: cycler>=0.10 in ./liuhe/lib/python3.11/site-packages (from matplotlib==3.3.4) (0.12.1)\n",
      "Requirement already satisfied: kiwisolver>=1.0.1 in ./liuhe/lib/python3.11/site-packages (from matplotlib==3.3.4) (1.4.5)\n",
      "Requirement already satisfied: numpy>=1.15 in ./liuhe/lib/python3.11/site-packages (from matplotlib==3.3.4) (1.25.1)\n",
      "Requirement already satisfied: pillow>=6.2.0 in ./liuhe/lib/python3.11/site-packages (from matplotlib==3.3.4) (10.0.0)\n",
      "Requirement already satisfied: pyparsing!=2.0.4,!=2.1.2,!=2.1.6,>=2.0.3 in ./liuhe/lib/python3.11/site-packages (from matplotlib==3.3.4) (3.1.1)\n",
      "Requirement already satisfied: python-dateutil>=2.1 in ./liuhe/lib/python3.11/site-packages (from matplotlib==3.3.4) (2.8.2)\n",
      "Requirement already satisfied: filelock in ./liuhe/lib/python3.11/site-packages (from torch) (3.12.2)\n",
      "Requirement already satisfied: typing-extensions in ./liuhe/lib/python3.11/site-packages (from torch) (4.7.1)\n",
      "Requirement already satisfied: sympy in ./liuhe/lib/python3.11/site-packages (from torch) (1.12)\n",
      "Requirement already satisfied: networkx in ./liuhe/lib/python3.11/site-packages (from torch) (3.1)\n",
      "Requirement already satisfied: jinja2 in ./liuhe/lib/python3.11/site-packages (from torch) (3.1.2)\n",
      "Requirement already satisfied: requests in ./liuhe/lib/python3.11/site-packages (from torchvision) (2.31.0)\n",
      "Requirement already satisfied: flask in ./liuhe/lib/python3.11/site-packages (from Flask-Compress) (2.3.2)\n",
      "Collecting brotli (from Flask-Compress)\n",
      "  Obtaining dependency information for brotli from https://files.pythonhosted.org/packages/96/12/ad41e7fadd5db55459c4c401842b47f7fee51068f86dd2894dd0dcfc2d2a/Brotli-1.1.0-cp311-cp311-macosx_10_9_universal2.whl.metadata\n",
      "  Downloading Brotli-1.1.0-cp311-cp311-macosx_10_9_universal2.whl.metadata (5.5 kB)\n",
      "Requirement already satisfied: six>=1.5 in ./liuhe/lib/python3.11/site-packages (from python-dateutil>=2.1->matplotlib==3.3.4) (1.12.0)\n",
      "Requirement already satisfied: Werkzeug>=2.3.3 in ./liuhe/lib/python3.11/site-packages (from flask->Flask-Compress) (2.3.6)\n",
      "Requirement already satisfied: itsdangerous>=2.1.2 in ./liuhe/lib/python3.11/site-packages (from flask->Flask-Compress) (2.1.2)\n",
      "Requirement already satisfied: click>=8.1.3 in ./liuhe/lib/python3.11/site-packages (from flask->Flask-Compress) (8.1.6)\n",
      "Requirement already satisfied: blinker>=1.6.2 in ./liuhe/lib/python3.11/site-packages (from flask->Flask-Compress) (1.6.2)\n",
      "Requirement already satisfied: MarkupSafe>=2.0 in ./liuhe/lib/python3.11/site-packages (from jinja2->torch) (2.1.3)\n",
      "Requirement already satisfied: charset-normalizer<4,>=2 in ./liuhe/lib/python3.11/site-packages (from requests->torchvision) (3.2.0)\n",
      "Requirement already satisfied: idna<4,>=2.5 in ./liuhe/lib/python3.11/site-packages (from requests->torchvision) (3.4)\n",
      "Requirement already satisfied: urllib3<3,>=1.21.1 in ./liuhe/lib/python3.11/site-packages (from requests->torchvision) (2.0.4)\n",
      "Requirement already satisfied: certifi>=2017.4.17 in ./liuhe/lib/python3.11/site-packages (from requests->torchvision) (2023.7.22)\n",
      "Requirement already satisfied: mpmath>=0.19 in ./liuhe/lib/python3.11/site-packages (from sympy->torch) (1.3.0)\n",
      "Downloading Flask_Compress-1.14-py3-none-any.whl (8.4 kB)\n",
      "Downloading Brotli-1.1.0-cp311-cp311-macosx_10_9_universal2.whl (873 kB)\n",
      "\u001b[2K   \u001b[38;2;114;156;31m━━━━━━━━━━━━━━━━━━━━━━━━━━━━━━━━━━━━━━━\u001b[0m \u001b[32m873.1/873.1 kB\u001b[0m \u001b[31m748.7 kB/s\u001b[0m eta \u001b[36m0:00:00\u001b[0mm eta \u001b[36m0:00:01\u001b[0m[36m0:00:01\u001b[0m\n",
      "\u001b[?25hBuilding wheels for collected packages: matplotlib\n",
      "  Building wheel for matplotlib (setup.py) ... \u001b[?25ldone\n",
      "\u001b[?25h  Created wheel for matplotlib: filename=matplotlib-3.3.4-cp311-cp311-macosx_14_0_arm64.whl size=8421501 sha256=2876c9be961402f3d8b8e653454465e4ad8d7bd4b60b0d9eb4ca26ee0c3812e0\n",
      "  Stored in directory: /Users/cfa532/Library/Caches/pip/wheels/f5/4e/66/4bf0958840d0ff3311f8e597fef91ae567c88caca711278d5e\n",
      "Successfully built matplotlib\n",
      "Installing collected packages: brotli, matplotlib, Flask-Compress, captum\n",
      "  Attempting uninstall: matplotlib\n",
      "    Found existing installation: matplotlib 3.8.0\n",
      "    Uninstalling matplotlib-3.8.0:\n",
      "      Successfully uninstalled matplotlib-3.8.0\n",
      "Successfully installed Flask-Compress-1.14 brotli-1.1.0 captum-0.6.0 matplotlib-3.3.4\n"
     ]
    }
   ],
   "source": [
    "!pip install torch torchvision captum matplotlib==3.3.4 Flask-Compress"
   ]
  },
  {
   "cell_type": "code",
   "execution_count": 2,
   "id": "729fad61-ea70-44bd-86c2-a9372eb85d8a",
   "metadata": {},
   "outputs": [
    {
     "name": "stderr",
     "output_type": "stream",
     "text": [
      "/Users/cfa532/Documents/GitHub/chroma-langchain-tutorial/liuhe/lib/python3.11/site-packages/tqdm/auto.py:21: TqdmWarning: IProgress not found. Please update jupyter and ipywidgets. See https://ipywidgets.readthedocs.io/en/stable/user_install.html\n",
      "  from .autonotebook import tqdm as notebook_tqdm\n"
     ]
    }
   ],
   "source": [
    "import torch\n",
    "import torch.nn.functional as F\n",
    "import torchvision.transforms as transforms\n",
    "import torchvision.models as models\n",
    "\n",
    "import captum\n",
    "from captum.attr import IntegratedGradients, Occlusion, LayerGradCam, LayerAttribution\n",
    "from captum.attr import visualization as viz\n",
    "\n",
    "import os, sys\n",
    "import json\n",
    "\n",
    "import numpy as np\n",
    "from PIL import Image\n",
    "import matplotlib.pyplot as plt\n",
    "from matplotlib.colors import LinearSegmentedColormap"
   ]
  },
  {
   "cell_type": "code",
   "execution_count": null,
   "id": "5b08a82c-7c37-4cf8-b7ca-4baf4406e4be",
   "metadata": {},
   "outputs": [],
   "source": []
  }
 ],
 "metadata": {
  "kernelspec": {
   "display_name": "Python 3 (ipykernel)",
   "language": "python",
   "name": "python3"
  },
  "language_info": {
   "codemirror_mode": {
    "name": "ipython",
    "version": 3
   },
   "file_extension": ".py",
   "mimetype": "text/x-python",
   "name": "python",
   "nbconvert_exporter": "python",
   "pygments_lexer": "ipython3",
   "version": "3.11.5"
  }
 },
 "nbformat": 4,
 "nbformat_minor": 5
}
